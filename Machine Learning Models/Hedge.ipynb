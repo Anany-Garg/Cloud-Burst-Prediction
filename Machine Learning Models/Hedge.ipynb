{
  "cells": [
    {
      "cell_type": "code",
      "execution_count": null,
      "metadata": {
        "colab": {
          "base_uri": "https://localhost:8080/"
        },
        "id": "AGmN-gY7P5tm",
        "outputId": "77c6ba0e-7973-4818-da7f-9a494880e841"
      },
      "outputs": [
        {
          "name": "stdout",
          "output_type": "stream",
          "text": [
            "Drive already mounted at /content/drive; to attempt to forcibly remount, call drive.mount(\"/content/drive\", force_remount=True).\n"
          ]
        }
      ],
      "source": [
        "import numpy as np\n",
        "import pandas as pd\n",
        "from sklearn.neighbors import KNeighborsRegressor\n",
        "from sklearn.metrics import r2_score\n",
        "from google.colab import drive\n",
        "drive.mount('/content/drive')\n",
        "from sklearn.ensemble import RandomForestRegressor\n",
        "import xgboost as xg\n",
        "from xgboost import XGBRegressor\n",
        "import os\n",
        "import torch\n",
        "from torch import optim\n",
        "from torch import nn\n",
        "from sklearn.metrics import r2_score\n",
        "from torch.utils.data import DataLoader\n",
        "from torchvision import datasets, transforms"
      ]
    },
    {
      "cell_type": "code",
      "execution_count": null,
      "metadata": {
        "id": "KI15o3zkSLvY"
      },
      "outputs": [],
      "source": [
        "train = pd.read_csv('/content/drive/MyDrive/Data Set/imputed_train (1).csv')\n",
        "y_train = train.pop('Rainfall').to_numpy()\n",
        "X_train = train.to_numpy()\n",
        "test = pd.read_csv('/content/drive/MyDrive/Data Set/imputed_test.csv')\n",
        "y_test = test.pop('Rainfall').to_numpy()\n",
        "X_test = test.to_numpy()"
      ]
    },
    {
      "cell_type": "code",
      "execution_count": null,
      "metadata": {
        "id": "LkKJp-7NSOub"
      },
      "outputs": [],
      "source": [
        "def KNNr(X_test, X_train, y_train):\n",
        "  # KNNRegressor\n",
        "  KNN = KNeighborsRegressor(n_neighbors = 55)\n",
        "  KNN.fit(X_train, y_train)\n",
        "  KNeighborsRegressor(n_neighbors = 55)\n",
        "  y_hat_k = KNN.predict(X_test)\n",
        "  return y_hat_k"
      ]
    },
    {
      "cell_type": "code",
      "execution_count": null,
      "metadata": {
        "id": "T0RXbS1nRZwF"
      },
      "outputs": [],
      "source": [
        "def RFr(X_test, X_train, y_train):\n",
        "  # RandomForestRegressor\n",
        "  regr = RandomForestRegressor(n_estimators = 300, max_depth = 64, random_state = 42)\n",
        "  regr.fit(X_train, y_train)\n",
        "  y_hat_r = regr.predict(X_test)\n",
        "  return y_hat_r"
      ]
    },
    {
      "cell_type": "code",
      "execution_count": null,
      "metadata": {
        "id": "rWdFqrMwSloE"
      },
      "outputs": [],
      "source": [
        "def XGBr(X_test, X_train, y_train):\n",
        "  # XGBoost Regressor\n",
        "  my_model = XGBRegressor(n_estimators=1000, learning_rate=0.05,random_state=42)\n",
        "  my_model.fit(X_train, y_train)\n",
        "  y_hat_xg= my_model.predict(X_test)\n",
        "  return y_hat_xg"
      ]
    },
    {
      "cell_type": "code",
      "execution_count": null,
      "metadata": {
        "id": "LBLtVcdbTNmd"
      },
      "outputs": [],
      "source": [
        "class MyNeuralNetwork(nn.Module):\n",
        "    def __init__(self):\n",
        "        super(MyNeuralNetwork, self).__init__()\n",
        "        #Define the NN Architecture\n",
        "        self.layer1 = nn.Sequential(\n",
        "            nn.Linear(18, 1024),\n",
        "            nn.ReLU()\n",
        "        )\n",
        "        self.layer2= nn.Sequential(\n",
        "            nn.Linear(1024,256),\n",
        "            nn.ReLU()\n",
        "        )\n",
        "        self.layer3 = nn.Sequential(\n",
        "            nn.Linear(256, 64),\n",
        "            nn.ReLU()\n",
        "        )\n",
        "        self.layer4= nn.Sequential(\n",
        "            nn.Linear(64, 16),\n",
        "            nn.ReLU()\n",
        "        )\n",
        "        self.layer5= nn.Sequential(\n",
        "            nn.Linear(16,4),\n",
        "            nn.ReLU()\n",
        "        )\n",
        "        self.layer6 = nn.Linear(4,1)\n",
        "\n",
        "    def forward(self, x):\n",
        "        # Define the forward pass\n",
        "        x = self.layer1(x)\n",
        "        x = self.layer2(x)\n",
        "        x = self.layer3(x)\n",
        "        x = self.layer4(x)\n",
        "        x = self.layer5(x)\n",
        "        x = self.layer6(x)\n",
        "        return x"
      ]
    },
    {
      "cell_type": "code",
      "execution_count": null,
      "metadata": {
        "id": "a6T0718oT4Ru"
      },
      "outputs": [],
      "source": [
        "def NN(X_test, X_train, y_train):\n",
        "  model=MyNeuralNetwork()\n",
        "\n",
        "  # Compute the RMS loss\n",
        "  criterion = nn.MSELoss()  # Mean Squared Error loss\n",
        "  optimizer = optim.Adam(model.parameters(), lr=0.03)\n",
        "\n",
        "  epochs = 100\n",
        "  num_samples = X_train.shape[0]\n",
        "\n",
        "  # Training loop\n",
        "  for epoch in range(epochs):\n",
        "      total_loss = 0.0\n",
        "      y_train = y_train.view(-1,1)\n",
        "      for i in range(0, num_samples, 5000):\n",
        "          inputs = X_train[i:i+5000]\n",
        "          targets = y_train[i:i+5000]\n",
        "\n",
        "\n",
        "          optimizer.zero_grad()  # Zero the gradients\n",
        "          outputs = model(inputs)\n",
        "          outputs = outputs.view(-1,1)\n",
        "          # Compute the loss\n",
        "          loss = criterion(outputs, targets)\n",
        "\n",
        "          # Backpropagation\n",
        "          loss.backward()\n",
        "\n",
        "          # Update weights\n",
        "\n",
        "          optimizer.step()\n",
        "\n",
        "          # Add the batch loss to the total loss for this epoch\n",
        "          total_loss += loss.item()\n",
        "\n",
        "      # Print the average loss for this epoch\n",
        "      average_loss = total_loss / num_samples\n",
        "\n",
        "      model.train()  # Set the model back to training mode\n",
        "  with torch.no_grad():\n",
        "    y_hat_nn=model(X_test)\n",
        "    return y_hat_nn"
      ]
    },
    {
      "cell_type": "code",
      "execution_count": null,
      "metadata": {
        "colab": {
          "background_save": true
        },
        "id": "Tjs4_rPEVaGd"
      },
      "outputs": [],
      "source": [
        "ep=1e-3\n",
        "batch_size=500\n",
        "for i in (0, X_test.shape[0], batch_size):\n",
        "  input=X_test[i:i+batch_size]\n",
        "  Y1=KNNr(input, X_train, y_train)\n",
        "  Y2=RFr(input, X_train, y_train)\n",
        "  Y3=XGBr(input, X_train, y_train)\n",
        "  Y4=NN(input, X_train, y_train)\n",
        "  Y_hat=W1*Y1+W2*Y2+W3*Y3+W4*Y4\n",
        "  Y_hat/=(W1+W2+W3+W4)\n",
        "  # Update Weights according to metric\n",
        "  r2=[r2_score(Y1, y_test[i:i+batch_size]), r2_score(Y2, y_test[i:i+batch_size]), r2_score(Y3, y_test[i:i+batch_size]), r2_score(Y4, y_test[i:i+batch_size])]\n",
        "  r2=r2.to_numpy()\n",
        "  r2=(r2-r2.mean())/r2.std()\n",
        "  W1=W1*torch.exp(r2[0]*ep)\n",
        "  W2=W2*torch.exp(r2[1]*ep)\n",
        "  W3=W3*torch.exp(r2[2]*ep)\n",
        "  W4=W4*torch.exp(r2[3]*ep)\n",
        "  # Update Training Data\n",
        "  X_train.append(input)\n",
        "  y_train.append(y_test[i:i+batch_size])"
      ]
    },
    {
      "cell_type": "code",
      "execution_count": null,
      "metadata": {
        "colab": {
          "background_save": true
        },
        "id": "OgqrfqD6UvD9"
      },
      "outputs": [],
      "source": []
    }
  ],
  "metadata": {
    "colab": {
      "provenance": []
    },
    "kernelspec": {
      "display_name": "Python 3",
      "name": "python3"
    },
    "language_info": {
      "name": "python"
    }
  },
  "nbformat": 4,
  "nbformat_minor": 0
}