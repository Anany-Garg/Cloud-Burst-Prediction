{
  "cells": [
    {
      "cell_type": "code",
      "source": [
        "#we had prepared more than one data based on different preprocessing and choosed the best one"
      ],
      "metadata": {
        "id": "7CpDiGCIc4eK"
      },
      "execution_count": null,
      "outputs": []
    },
    {
      "cell_type": "code",
      "execution_count": null,
      "metadata": {
        "colab": {
          "base_uri": "https://localhost:8080/"
        },
        "id": "r-NeK7FmCcwH",
        "outputId": "dddfa5f2-52b8-4147-a9fd-3b4bfdf6ccd3"
      },
      "outputs": [
        {
          "output_type": "stream",
          "name": "stdout",
          "text": [
            "Drive already mounted at /content/drive; to attempt to forcibly remount, call drive.mount(\"/content/drive\", force_remount=True).\n"
          ]
        }
      ],
      "source": [
        "import numpy as np\n",
        "import pandas as pd\n",
        "from sklearn.neighbors import KNeighborsRegressor\n",
        "from sklearn.metrics import r2_score\n",
        "from google.colab import drive\n",
        "drive.mount('/content/drive')\n",
        "from sklearn.ensemble import RandomForestRegressor"
      ]
    },
    {
      "cell_type": "code",
      "execution_count": null,
      "metadata": {
        "id": "-cCoyHD9eESO"
      },
      "outputs": [],
      "source": [
        "train = pd.read_csv('/content/weather_train.csv')\n",
        "y_train = train.pop('Rainfall').to_numpy()\n",
        "X_train = train.to_numpy()\n",
        "test = pd.read_csv('/content/weather_test.csv')\n",
        "y_test = test.pop('Rainfall').to_numpy()\n",
        "X_test = test.to_numpy()"
      ]
    },
    {
      "cell_type": "code",
      "execution_count": null,
      "metadata": {
        "colab": {
          "base_uri": "https://localhost:8080/"
        },
        "id": "DUb62KM9Yc9I",
        "outputId": "84168763-e95e-49ca-f543-ed3f8a5a59eb"
      },
      "outputs": [
        {
          "output_type": "execute_result",
          "data": {
            "text/plain": [
              "0.24014816297096653"
            ]
          },
          "metadata": {},
          "execution_count": 6
        }
      ],
      "source": [
        "KNN = KNeighborsRegressor(n_neighbors = 55)\n",
        "KNN.fit(X_train, y_train)\n",
        "KNeighborsRegressor(n_neighbors = 55)\n",
        "y_hat = KNN.predict(X_test)\n",
        "r2_score(y_test, y_hat)"
      ]
    },
    {
      "cell_type": "code",
      "execution_count": null,
      "metadata": {
        "colab": {
          "base_uri": "https://localhost:8080/"
        },
        "id": "A4AePliY3n5K",
        "outputId": "f786bdd9-923c-4b6a-85a6-4c44c90836f4"
      },
      "outputs": [
        {
          "output_type": "execute_result",
          "data": {
            "text/plain": [
              "0.2811929161173884"
            ]
          },
          "metadata": {},
          "execution_count": 7
        }
      ],
      "source": [
        "regr = RandomForestRegressor(n_estimators = 300, max_depth = 64, random_state = 42)\n",
        "regr.fit(X_train, y_train)\n",
        "y_hat_r = regr.predict(X_test)\n",
        "r2_score(y_test, y_hat_r)"
      ]
    },
    {
      "cell_type": "code",
      "execution_count": null,
      "metadata": {
        "id": "PApNjpq2yURi"
      },
      "outputs": [],
      "source": [
        "train2 = pd.read_csv('/content/weather_train_red.csv')\n",
        "y_train2 = train2.to_numpy()[:, 2]\n",
        "X_train2 = train2.drop(['Rainfall'], axis = 1).to_numpy()\n",
        "mu = np.mean(X_train2)\n",
        "std = np.std(X_train2)\n",
        "X_train2 = (X_train2 - mu) / std\n",
        "test2 = pd.read_csv('/content/weather_test_red.csv')\n",
        "y_test2 = test2.to_numpy()[:, 2]\n",
        "X_test2 = test2.drop(['Rainfall'], axis = 1).to_numpy()\n",
        "X_test2 = (X_test2 - mu) / std"
      ]
    },
    {
      "cell_type": "code",
      "execution_count": null,
      "metadata": {
        "colab": {
          "base_uri": "https://localhost:8080/"
        },
        "id": "Hy1FOCRf1WCs",
        "outputId": "3d037c12-1374-43c1-93a1-960e45298397"
      },
      "outputs": [
        {
          "output_type": "execute_result",
          "data": {
            "text/plain": [
              "0.23165483193961178"
            ]
          },
          "metadata": {},
          "execution_count": 25
        }
      ],
      "source": [
        "KNN = KNeighborsRegressor(n_neighbors = 50)\n",
        "KNN.fit(X_train2, y_train2)\n",
        "KNeighborsRegressor(n_neighbors = 50)\n",
        "y_hat2 = KNN.predict(X_test2)\n",
        "r2_score(y_test2, y_hat2)"
      ]
    },
    {
      "cell_type": "code",
      "source": [
        "regr = RandomForestRegressor(n_estimators = 200, max_depth = 8, random_state = 42)\n",
        "regr.fit(X_train2, y_train2)\n",
        "y_hat_r2 = regr.predict(X_test2)\n",
        "r2_score(y_test2, y_hat_r2)"
      ],
      "metadata": {
        "colab": {
          "base_uri": "https://localhost:8080/"
        },
        "id": "27CDdfwkcNh5",
        "outputId": "58d81240-bcc4-4bf6-9711-f243642a7417"
      },
      "execution_count": null,
      "outputs": [
        {
          "output_type": "execute_result",
          "data": {
            "text/plain": [
              "0.24792705923267921"
            ]
          },
          "metadata": {},
          "execution_count": 29
        }
      ]
    }
  ],
  "metadata": {
    "colab": {
      "provenance": []
    },
    "kernelspec": {
      "display_name": "Python 3",
      "name": "python3"
    },
    "language_info": {
      "name": "python"
    }
  },
  "nbformat": 4,
  "nbformat_minor": 0
}