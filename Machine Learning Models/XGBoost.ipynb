{
  "nbformat": 4,
  "nbformat_minor": 0,
  "metadata": {
    "colab": {
      "provenance": [],
      "toc_visible": true
    },
    "kernelspec": {
      "name": "python3",
      "display_name": "Python 3"
    },
    "language_info": {
      "name": "python"
    }
  },
  "cells": [
    {
      "cell_type": "code",
      "execution_count": null,
      "metadata": {
        "id": "nrz42BeIV0a-"
      },
      "outputs": [],
      "source": [
        "import numpy as np\n",
        "import pandas as pd\n",
        "import sklearn\n",
        "from sklearn.metrics import r2_score\n",
        "from sklearn.model_selection import train_test_split"
      ]
    },
    {
      "cell_type": "code",
      "source": [
        "X=pd.read_csv('/content/imputed_train.csv')\n",
        "y=X.pop('Rainfall')\n",
        "x_val=pd.read_csv('/content/imputed_test.csv')\n",
        "y_val=x_val.pop(\"Rainfall\")\n",
        "X_=np.concatenate((X,x_val),axis=0)\n",
        "y_=np.concatenate((y,y_val),axis=0)\n",
        "X_train ,X_test, y_train, y_test = train_test_split(X_, y_, test_size=(0.1),random_state=42)"
      ],
      "metadata": {
        "id": "20WtdCk1xtdD"
      },
      "execution_count": null,
      "outputs": []
    },
    {
      "cell_type": "code",
      "source": [
        "import xgboost as xg\n",
        "from xgboost import XGBRegressor\n",
        "my_model = XGBRegressor(n_estimators=5000, learning_rate=0.04,early_stopping_rounds=100,random_state=42)\n",
        "my_model.fit(X_train, y_train,\n",
        "             eval_set=[(X_test,y_test)],\n",
        "             verbose=True)\n",
        "# Predict the model\n",
        "pred = my_model.predict(X_test)\n",
        "\n",
        "print(r2_score(y_test, pred))\n",
        "pred[pred<0]=0\n",
        "r2_score(y_test,pred)"
      ],
      "metadata": {
        "colab": {
          "base_uri": "https://localhost:8080/"
        },
        "id": "QovnPAHahnX5",
        "outputId": "e23dcd14-4f0b-462f-b512-27f44c6f90cb"
      },
      "execution_count": null,
      "outputs": [
        {
          "output_type": "stream",
          "name": "stdout",
          "text": [
            "[0]\tvalidation_0-rmse:8.81695\n",
            "[1]\tvalidation_0-rmse:8.74167\n",
            "[2]\tvalidation_0-rmse:8.67170\n",
            "[3]\tvalidation_0-rmse:8.59883\n",
            "[4]\tvalidation_0-rmse:8.53644\n",
            "[5]\tvalidation_0-rmse:8.47864\n",
            "[6]\tvalidation_0-rmse:8.41669\n",
            "[7]\tvalidation_0-rmse:8.36115\n",
            "[8]\tvalidation_0-rmse:8.31049\n",
            "[9]\tvalidation_0-rmse:8.26229\n",
            "[10]\tvalidation_0-rmse:8.21898\n",
            "[11]\tvalidation_0-rmse:8.17187\n",
            "[12]\tvalidation_0-rmse:8.13216\n",
            "[13]\tvalidation_0-rmse:8.09585\n",
            "[14]\tvalidation_0-rmse:8.05818\n",
            "[15]\tvalidation_0-rmse:8.02763\n",
            "[16]\tvalidation_0-rmse:7.99551\n",
            "[17]\tvalidation_0-rmse:7.96027\n",
            "[18]\tvalidation_0-rmse:7.93166\n",
            "[19]\tvalidation_0-rmse:7.89881\n",
            "[20]\tvalidation_0-rmse:7.86672\n",
            "[21]\tvalidation_0-rmse:7.83718\n",
            "[22]\tvalidation_0-rmse:7.81167\n",
            "[23]\tvalidation_0-rmse:7.78160\n",
            "[24]\tvalidation_0-rmse:7.75912\n",
            "[25]\tvalidation_0-rmse:7.73750\n",
            "[26]\tvalidation_0-rmse:7.71419\n",
            "[27]\tvalidation_0-rmse:7.69475\n",
            "[28]\tvalidation_0-rmse:7.67417\n",
            "[29]\tvalidation_0-rmse:7.65632\n",
            "[30]\tvalidation_0-rmse:7.63825\n",
            "[31]\tvalidation_0-rmse:7.62078\n",
            "[32]\tvalidation_0-rmse:7.60284\n",
            "[33]\tvalidation_0-rmse:7.59131\n",
            "[34]\tvalidation_0-rmse:7.57516\n",
            "[35]\tvalidation_0-rmse:7.56358\n",
            "[36]\tvalidation_0-rmse:7.55225\n",
            "[37]\tvalidation_0-rmse:7.54227\n",
            "[38]\tvalidation_0-rmse:7.53508\n",
            "[39]\tvalidation_0-rmse:7.52608\n",
            "[40]\tvalidation_0-rmse:7.51817\n",
            "[41]\tvalidation_0-rmse:7.50323\n",
            "[42]\tvalidation_0-rmse:7.49799\n",
            "[43]\tvalidation_0-rmse:7.49168\n",
            "[44]\tvalidation_0-rmse:7.48014\n",
            "[45]\tvalidation_0-rmse:7.47215\n",
            "[46]\tvalidation_0-rmse:7.46626\n",
            "[47]\tvalidation_0-rmse:7.45674\n",
            "[48]\tvalidation_0-rmse:7.43979\n",
            "[49]\tvalidation_0-rmse:7.43426\n",
            "[50]\tvalidation_0-rmse:7.42299\n",
            "[51]\tvalidation_0-rmse:7.41653\n",
            "[52]\tvalidation_0-rmse:7.41233\n",
            "[53]\tvalidation_0-rmse:7.40491\n",
            "[54]\tvalidation_0-rmse:7.39577\n",
            "[55]\tvalidation_0-rmse:7.38214\n",
            "[56]\tvalidation_0-rmse:7.37073\n",
            "[57]\tvalidation_0-rmse:7.36727\n",
            "[58]\tvalidation_0-rmse:7.36155\n",
            "[59]\tvalidation_0-rmse:7.35433\n",
            "[60]\tvalidation_0-rmse:7.34701\n",
            "[61]\tvalidation_0-rmse:7.34002\n",
            "[62]\tvalidation_0-rmse:7.32974\n",
            "[63]\tvalidation_0-rmse:7.32472\n",
            "[64]\tvalidation_0-rmse:7.32125\n",
            "[65]\tvalidation_0-rmse:7.31372\n",
            "[66]\tvalidation_0-rmse:7.30615\n",
            "[67]\tvalidation_0-rmse:7.29628\n",
            "[68]\tvalidation_0-rmse:7.28557\n",
            "[69]\tvalidation_0-rmse:7.28001\n",
            "[70]\tvalidation_0-rmse:7.27298\n",
            "[71]\tvalidation_0-rmse:7.27129\n",
            "[72]\tvalidation_0-rmse:7.26837\n",
            "[73]\tvalidation_0-rmse:7.25996\n",
            "[74]\tvalidation_0-rmse:7.25173\n",
            "[75]\tvalidation_0-rmse:7.24829\n",
            "[76]\tvalidation_0-rmse:7.24709\n",
            "[77]\tvalidation_0-rmse:7.23992\n",
            "[78]\tvalidation_0-rmse:7.23859\n",
            "[79]\tvalidation_0-rmse:7.23155\n",
            "[80]\tvalidation_0-rmse:7.22872\n",
            "[81]\tvalidation_0-rmse:7.22096\n",
            "[82]\tvalidation_0-rmse:7.21763\n",
            "[83]\tvalidation_0-rmse:7.21504\n",
            "[84]\tvalidation_0-rmse:7.21226\n",
            "[85]\tvalidation_0-rmse:7.20804\n",
            "[86]\tvalidation_0-rmse:7.20569\n",
            "[87]\tvalidation_0-rmse:7.20463\n",
            "[88]\tvalidation_0-rmse:7.20189\n",
            "[89]\tvalidation_0-rmse:7.19575\n",
            "[90]\tvalidation_0-rmse:7.19174\n",
            "[91]\tvalidation_0-rmse:7.18928\n",
            "[92]\tvalidation_0-rmse:7.18302\n",
            "[93]\tvalidation_0-rmse:7.17971\n",
            "[94]\tvalidation_0-rmse:7.17423\n",
            "[95]\tvalidation_0-rmse:7.17265\n",
            "[96]\tvalidation_0-rmse:7.17220\n",
            "[97]\tvalidation_0-rmse:7.16835\n",
            "[98]\tvalidation_0-rmse:7.16358\n",
            "[99]\tvalidation_0-rmse:7.16053\n",
            "[100]\tvalidation_0-rmse:7.15849\n",
            "[101]\tvalidation_0-rmse:7.15515\n",
            "[102]\tvalidation_0-rmse:7.15171\n",
            "[103]\tvalidation_0-rmse:7.14997\n",
            "[104]\tvalidation_0-rmse:7.14890\n",
            "[105]\tvalidation_0-rmse:7.14708\n",
            "[106]\tvalidation_0-rmse:7.14563\n",
            "[107]\tvalidation_0-rmse:7.14525\n",
            "[108]\tvalidation_0-rmse:7.14096\n",
            "[109]\tvalidation_0-rmse:7.14035\n",
            "[110]\tvalidation_0-rmse:7.13590\n",
            "[111]\tvalidation_0-rmse:7.13503\n",
            "[112]\tvalidation_0-rmse:7.13420\n",
            "[113]\tvalidation_0-rmse:7.13357\n",
            "[114]\tvalidation_0-rmse:7.13119\n",
            "[115]\tvalidation_0-rmse:7.12794\n",
            "[116]\tvalidation_0-rmse:7.12334\n",
            "[117]\tvalidation_0-rmse:7.12325\n",
            "[118]\tvalidation_0-rmse:7.12408\n",
            "[119]\tvalidation_0-rmse:7.12299\n",
            "[120]\tvalidation_0-rmse:7.11950\n",
            "[121]\tvalidation_0-rmse:7.11817\n",
            "[122]\tvalidation_0-rmse:7.11883\n",
            "[123]\tvalidation_0-rmse:7.11841\n",
            "[124]\tvalidation_0-rmse:7.11494\n",
            "[125]\tvalidation_0-rmse:7.11588\n",
            "[126]\tvalidation_0-rmse:7.11384\n",
            "[127]\tvalidation_0-rmse:7.11323\n",
            "[128]\tvalidation_0-rmse:7.11315\n",
            "[129]\tvalidation_0-rmse:7.11393\n",
            "[130]\tvalidation_0-rmse:7.11400\n",
            "[131]\tvalidation_0-rmse:7.11305\n",
            "[132]\tvalidation_0-rmse:7.11298\n",
            "[133]\tvalidation_0-rmse:7.11226\n",
            "[134]\tvalidation_0-rmse:7.11204\n",
            "[135]\tvalidation_0-rmse:7.11029\n",
            "[136]\tvalidation_0-rmse:7.10862\n",
            "[137]\tvalidation_0-rmse:7.10695\n",
            "[138]\tvalidation_0-rmse:7.10756\n",
            "[139]\tvalidation_0-rmse:7.10706\n",
            "[140]\tvalidation_0-rmse:7.10741\n",
            "[141]\tvalidation_0-rmse:7.10738\n",
            "[142]\tvalidation_0-rmse:7.10382\n",
            "[143]\tvalidation_0-rmse:7.10496\n",
            "[144]\tvalidation_0-rmse:7.10423\n",
            "[145]\tvalidation_0-rmse:7.10458\n",
            "[146]\tvalidation_0-rmse:7.10427\n",
            "[147]\tvalidation_0-rmse:7.10381\n",
            "[148]\tvalidation_0-rmse:7.10244\n",
            "[149]\tvalidation_0-rmse:7.10079\n",
            "[150]\tvalidation_0-rmse:7.09985\n",
            "[151]\tvalidation_0-rmse:7.09997\n",
            "[152]\tvalidation_0-rmse:7.10029\n",
            "[153]\tvalidation_0-rmse:7.10002\n",
            "[154]\tvalidation_0-rmse:7.09987\n",
            "[155]\tvalidation_0-rmse:7.09851\n",
            "[156]\tvalidation_0-rmse:7.09854\n",
            "[157]\tvalidation_0-rmse:7.09820\n",
            "[158]\tvalidation_0-rmse:7.09897\n",
            "[159]\tvalidation_0-rmse:7.09775\n",
            "[160]\tvalidation_0-rmse:7.09720\n",
            "[161]\tvalidation_0-rmse:7.09663\n",
            "[162]\tvalidation_0-rmse:7.09625\n",
            "[163]\tvalidation_0-rmse:7.09449\n",
            "[164]\tvalidation_0-rmse:7.09354\n",
            "[165]\tvalidation_0-rmse:7.09344\n",
            "[166]\tvalidation_0-rmse:7.09357\n",
            "[167]\tvalidation_0-rmse:7.09358\n",
            "[168]\tvalidation_0-rmse:7.09344\n",
            "[169]\tvalidation_0-rmse:7.09260\n",
            "[170]\tvalidation_0-rmse:7.09054\n",
            "[171]\tvalidation_0-rmse:7.08980\n",
            "[172]\tvalidation_0-rmse:7.08879\n",
            "[173]\tvalidation_0-rmse:7.08817\n",
            "[174]\tvalidation_0-rmse:7.08801\n",
            "[175]\tvalidation_0-rmse:7.08777\n",
            "[176]\tvalidation_0-rmse:7.08834\n",
            "[177]\tvalidation_0-rmse:7.08706\n",
            "[178]\tvalidation_0-rmse:7.08672\n",
            "[179]\tvalidation_0-rmse:7.08749\n",
            "[180]\tvalidation_0-rmse:7.08707\n",
            "[181]\tvalidation_0-rmse:7.08685\n",
            "[182]\tvalidation_0-rmse:7.08712\n",
            "[183]\tvalidation_0-rmse:7.08576\n",
            "[184]\tvalidation_0-rmse:7.08548\n",
            "[185]\tvalidation_0-rmse:7.08479\n",
            "[186]\tvalidation_0-rmse:7.08518\n",
            "[187]\tvalidation_0-rmse:7.08508\n",
            "[188]\tvalidation_0-rmse:7.08491\n",
            "[189]\tvalidation_0-rmse:7.08434\n",
            "[190]\tvalidation_0-rmse:7.08454\n",
            "[191]\tvalidation_0-rmse:7.08434\n",
            "[192]\tvalidation_0-rmse:7.08378\n",
            "[193]\tvalidation_0-rmse:7.08256\n",
            "[194]\tvalidation_0-rmse:7.08232\n",
            "[195]\tvalidation_0-rmse:7.08194\n",
            "[196]\tvalidation_0-rmse:7.08232\n",
            "[197]\tvalidation_0-rmse:7.08186\n",
            "[198]\tvalidation_0-rmse:7.08082\n",
            "[199]\tvalidation_0-rmse:7.08167\n",
            "[200]\tvalidation_0-rmse:7.08135\n",
            "[201]\tvalidation_0-rmse:7.08150\n",
            "[202]\tvalidation_0-rmse:7.08169\n",
            "[203]\tvalidation_0-rmse:7.08158\n",
            "[204]\tvalidation_0-rmse:7.08117\n",
            "[205]\tvalidation_0-rmse:7.08191\n",
            "[206]\tvalidation_0-rmse:7.08402\n",
            "[207]\tvalidation_0-rmse:7.08279\n",
            "[208]\tvalidation_0-rmse:7.08295\n",
            "[209]\tvalidation_0-rmse:7.08269\n",
            "[210]\tvalidation_0-rmse:7.08271\n",
            "[211]\tvalidation_0-rmse:7.08208\n",
            "[212]\tvalidation_0-rmse:7.08203\n",
            "[213]\tvalidation_0-rmse:7.08135\n",
            "[214]\tvalidation_0-rmse:7.08138\n",
            "[215]\tvalidation_0-rmse:7.08152\n",
            "[216]\tvalidation_0-rmse:7.08148\n",
            "[217]\tvalidation_0-rmse:7.08253\n",
            "[218]\tvalidation_0-rmse:7.08125\n",
            "[219]\tvalidation_0-rmse:7.07953\n",
            "[220]\tvalidation_0-rmse:7.07921\n",
            "[221]\tvalidation_0-rmse:7.07903\n",
            "[222]\tvalidation_0-rmse:7.07902\n",
            "[223]\tvalidation_0-rmse:7.07879\n",
            "[224]\tvalidation_0-rmse:7.07872\n",
            "[225]\tvalidation_0-rmse:7.07851\n",
            "[226]\tvalidation_0-rmse:7.07767\n",
            "[227]\tvalidation_0-rmse:7.07773\n",
            "[228]\tvalidation_0-rmse:7.07777\n",
            "[229]\tvalidation_0-rmse:7.07732\n",
            "[230]\tvalidation_0-rmse:7.07748\n",
            "[231]\tvalidation_0-rmse:7.07746\n",
            "[232]\tvalidation_0-rmse:7.07751\n",
            "[233]\tvalidation_0-rmse:7.07772\n",
            "[234]\tvalidation_0-rmse:7.07634\n",
            "[235]\tvalidation_0-rmse:7.07646\n",
            "[236]\tvalidation_0-rmse:7.07672\n",
            "[237]\tvalidation_0-rmse:7.07679\n",
            "[238]\tvalidation_0-rmse:7.07631\n",
            "[239]\tvalidation_0-rmse:7.07569\n",
            "[240]\tvalidation_0-rmse:7.07506\n",
            "[241]\tvalidation_0-rmse:7.07525\n",
            "[242]\tvalidation_0-rmse:7.07512\n",
            "[243]\tvalidation_0-rmse:7.07533\n",
            "[244]\tvalidation_0-rmse:7.07545\n",
            "[245]\tvalidation_0-rmse:7.07483\n",
            "[246]\tvalidation_0-rmse:7.07492\n",
            "[247]\tvalidation_0-rmse:7.07481\n",
            "[248]\tvalidation_0-rmse:7.07494\n",
            "[249]\tvalidation_0-rmse:7.07583\n",
            "[250]\tvalidation_0-rmse:7.07326\n",
            "[251]\tvalidation_0-rmse:7.07341\n",
            "[252]\tvalidation_0-rmse:7.07308\n",
            "[253]\tvalidation_0-rmse:7.07117\n",
            "[254]\tvalidation_0-rmse:7.07351\n",
            "[255]\tvalidation_0-rmse:7.07376\n",
            "[256]\tvalidation_0-rmse:7.07394\n",
            "[257]\tvalidation_0-rmse:7.07375\n",
            "[258]\tvalidation_0-rmse:7.07368\n",
            "[259]\tvalidation_0-rmse:7.07792\n",
            "[260]\tvalidation_0-rmse:7.07695\n",
            "[261]\tvalidation_0-rmse:7.07519\n",
            "[262]\tvalidation_0-rmse:7.07529\n",
            "[263]\tvalidation_0-rmse:7.07552\n",
            "[264]\tvalidation_0-rmse:7.07514\n",
            "[265]\tvalidation_0-rmse:7.07557\n",
            "[266]\tvalidation_0-rmse:7.07572\n",
            "[267]\tvalidation_0-rmse:7.07693\n",
            "[268]\tvalidation_0-rmse:7.07741\n",
            "[269]\tvalidation_0-rmse:7.07771\n",
            "[270]\tvalidation_0-rmse:7.07843\n",
            "[271]\tvalidation_0-rmse:7.07842\n",
            "[272]\tvalidation_0-rmse:7.07848\n",
            "[273]\tvalidation_0-rmse:7.07849\n",
            "[274]\tvalidation_0-rmse:7.07783\n",
            "[275]\tvalidation_0-rmse:7.07784\n",
            "[276]\tvalidation_0-rmse:7.07729\n",
            "[277]\tvalidation_0-rmse:7.07686\n",
            "[278]\tvalidation_0-rmse:7.07716\n",
            "[279]\tvalidation_0-rmse:7.07720\n",
            "[280]\tvalidation_0-rmse:7.07753\n",
            "[281]\tvalidation_0-rmse:7.07742\n",
            "[282]\tvalidation_0-rmse:7.07741\n",
            "[283]\tvalidation_0-rmse:7.07727\n",
            "[284]\tvalidation_0-rmse:7.07751\n",
            "[285]\tvalidation_0-rmse:7.07740\n",
            "[286]\tvalidation_0-rmse:7.07741\n",
            "[287]\tvalidation_0-rmse:7.07622\n",
            "[288]\tvalidation_0-rmse:7.07965\n",
            "[289]\tvalidation_0-rmse:7.07931\n",
            "[290]\tvalidation_0-rmse:7.07938\n",
            "[291]\tvalidation_0-rmse:7.07931\n",
            "[292]\tvalidation_0-rmse:7.07930\n",
            "[293]\tvalidation_0-rmse:7.07946\n",
            "[294]\tvalidation_0-rmse:7.07919\n",
            "[295]\tvalidation_0-rmse:7.07920\n",
            "[296]\tvalidation_0-rmse:7.07903\n",
            "[297]\tvalidation_0-rmse:7.07898\n",
            "[298]\tvalidation_0-rmse:7.07887\n",
            "[299]\tvalidation_0-rmse:7.07888\n",
            "[300]\tvalidation_0-rmse:7.07965\n",
            "[301]\tvalidation_0-rmse:7.07973\n",
            "[302]\tvalidation_0-rmse:7.07975\n",
            "[303]\tvalidation_0-rmse:7.07883\n",
            "[304]\tvalidation_0-rmse:7.07840\n",
            "[305]\tvalidation_0-rmse:7.07858\n",
            "[306]\tvalidation_0-rmse:7.08027\n",
            "[307]\tvalidation_0-rmse:7.08002\n",
            "[308]\tvalidation_0-rmse:7.08041\n",
            "[309]\tvalidation_0-rmse:7.08041\n",
            "[310]\tvalidation_0-rmse:7.08060\n",
            "[311]\tvalidation_0-rmse:7.08078\n",
            "[312]\tvalidation_0-rmse:7.08058\n",
            "[313]\tvalidation_0-rmse:7.08062\n",
            "[314]\tvalidation_0-rmse:7.07942\n",
            "[315]\tvalidation_0-rmse:7.07943\n",
            "[316]\tvalidation_0-rmse:7.07902\n",
            "[317]\tvalidation_0-rmse:7.07971\n",
            "[318]\tvalidation_0-rmse:7.07976\n",
            "[319]\tvalidation_0-rmse:7.07985\n",
            "[320]\tvalidation_0-rmse:7.08031\n",
            "[321]\tvalidation_0-rmse:7.08069\n",
            "[322]\tvalidation_0-rmse:7.08053\n",
            "[323]\tvalidation_0-rmse:7.08044\n",
            "[324]\tvalidation_0-rmse:7.08044\n",
            "[325]\tvalidation_0-rmse:7.08040\n",
            "[326]\tvalidation_0-rmse:7.08008\n",
            "[327]\tvalidation_0-rmse:7.07897\n",
            "[328]\tvalidation_0-rmse:7.07901\n",
            "[329]\tvalidation_0-rmse:7.07922\n",
            "[330]\tvalidation_0-rmse:7.07891\n",
            "[331]\tvalidation_0-rmse:7.07817\n",
            "[332]\tvalidation_0-rmse:7.07833\n",
            "[333]\tvalidation_0-rmse:7.07835\n",
            "[334]\tvalidation_0-rmse:7.07799\n",
            "[335]\tvalidation_0-rmse:7.07752\n",
            "[336]\tvalidation_0-rmse:7.07822\n",
            "[337]\tvalidation_0-rmse:7.07772\n",
            "[338]\tvalidation_0-rmse:7.07774\n",
            "[339]\tvalidation_0-rmse:7.07780\n",
            "[340]\tvalidation_0-rmse:7.07782\n",
            "[341]\tvalidation_0-rmse:7.07792\n",
            "[342]\tvalidation_0-rmse:7.07657\n",
            "[343]\tvalidation_0-rmse:7.07616\n",
            "[344]\tvalidation_0-rmse:7.07561\n",
            "[345]\tvalidation_0-rmse:7.07564\n",
            "[346]\tvalidation_0-rmse:7.07571\n",
            "[347]\tvalidation_0-rmse:7.07529\n",
            "[348]\tvalidation_0-rmse:7.07600\n",
            "[349]\tvalidation_0-rmse:7.07609\n",
            "[350]\tvalidation_0-rmse:7.07626\n",
            "[351]\tvalidation_0-rmse:7.07539\n",
            "[352]\tvalidation_0-rmse:7.07545\n",
            "0.33820142770138206\n"
          ]
        },
        {
          "output_type": "execute_result",
          "data": {
            "text/plain": [
              "0.33838525015702703"
            ]
          },
          "metadata": {},
          "execution_count": 26
        }
      ]
    },
    {
      "cell_type": "code",
      "source": [
        "pred = my_model.predict(x_val)\n"
      ],
      "metadata": {
        "id": "YYwW_hQ4QDkh"
      },
      "execution_count": null,
      "outputs": []
    },
    {
      "cell_type": "code",
      "source": [
        "y_val"
      ],
      "metadata": {
        "colab": {
          "base_uri": "https://localhost:8080/"
        },
        "id": "Tf4cZ_-RP1Ra",
        "outputId": "3ff0be61-af8f-478d-9a13-b9584a8aab0e"
      },
      "execution_count": null,
      "outputs": [
        {
          "output_type": "execute_result",
          "data": {
            "text/plain": [
              "0         0.0\n",
              "1         0.0\n",
              "2         0.0\n",
              "3         0.0\n",
              "4        15.6\n",
              "         ... \n",
              "42672     0.0\n",
              "42673     0.0\n",
              "42674     0.0\n",
              "42675     0.0\n",
              "42676     0.0\n",
              "Name: Rainfall, Length: 42677, dtype: float64"
            ]
          },
          "metadata": {},
          "execution_count": 5
        }
      ]
    },
    {
      "cell_type": "code",
      "source": [
        "pred[4]"
      ],
      "metadata": {
        "colab": {
          "base_uri": "https://localhost:8080/"
        },
        "id": "7zzMGMsfPj-M",
        "outputId": "40683666-8faa-4212-c086-6c337e7858b3"
      },
      "execution_count": null,
      "outputs": [
        {
          "output_type": "execute_result",
          "data": {
            "text/plain": [
              "27.048094"
            ]
          },
          "metadata": {},
          "execution_count": 7
        }
      ]
    },
    {
      "cell_type": "code",
      "source": [],
      "metadata": {
        "colab": {
          "base_uri": "https://localhost:8080/"
        },
        "id": "Fd1F955TS7NQ",
        "outputId": "788a543e-dcac-452a-9b26-10aefe60eb61"
      },
      "execution_count": null,
      "outputs": [
        {
          "output_type": "execute_result",
          "data": {
            "text/plain": [
              "278.4"
            ]
          },
          "metadata": {},
          "execution_count": 23
        }
      ]
    },
    {
      "cell_type": "code",
      "source": [
        "np.min(pred-y_val)"
      ],
      "metadata": {
        "colab": {
          "base_uri": "https://localhost:8080/"
        },
        "id": "UIW3r4uoSfLe",
        "outputId": "3fa7bc31-a499-49d7-e80c-8481867bbeab"
      },
      "execution_count": null,
      "outputs": [
        {
          "output_type": "execute_result",
          "data": {
            "text/plain": [
              "-190.28884048461913"
            ]
          },
          "metadata": {},
          "execution_count": 21
        }
      ]
    },
    {
      "cell_type": "code",
      "source": [
        "pred[pred<0]=0"
      ],
      "metadata": {
        "id": "nhAPPdKRRe1u"
      },
      "execution_count": null,
      "outputs": []
    },
    {
      "cell_type": "code",
      "source": [
        "pred"
      ],
      "metadata": {
        "colab": {
          "base_uri": "https://localhost:8080/"
        },
        "id": "DVleMI9bRlUu",
        "outputId": "9732a47b-5950-42a8-ca50-41718b9ee2d3"
      },
      "execution_count": null,
      "outputs": [
        {
          "output_type": "execute_result",
          "data": {
            "text/plain": [
              "array([0.70184153, 0.        , 0.9768847 , ..., 0.        , 0.        ,\n",
              "       0.03278882], dtype=float32)"
            ]
          },
          "metadata": {},
          "execution_count": 13
        }
      ]
    },
    {
      "cell_type": "code",
      "source": [
        "r2_score(y_val,pred)"
      ],
      "metadata": {
        "colab": {
          "base_uri": "https://localhost:8080/"
        },
        "id": "5qeTpVWYPoeq",
        "outputId": "bd2b87b1-d65b-4756-83fd-b2bc8c8e8f8f"
      },
      "execution_count": null,
      "outputs": [
        {
          "output_type": "execute_result",
          "data": {
            "text/plain": [
              "0.3321762586411211"
            ]
          },
          "metadata": {},
          "execution_count": 15
        }
      ]
    },
    {
      "cell_type": "code",
      "source": [
        "model_path='my_model.txt'"
      ],
      "metadata": {
        "id": "Sifw1ig6P6p3"
      },
      "execution_count": null,
      "outputs": []
    },
    {
      "cell_type": "code",
      "source": [
        "my_model.save_model(model_path)"
      ],
      "metadata": {
        "id": "u_PbImHTVM0Y"
      },
      "execution_count": null,
      "outputs": []
    },
    {
      "cell_type": "code",
      "source": [
        "p=pred[4]"
      ],
      "metadata": {
        "id": "sV8vmsdVVa1l"
      },
      "execution_count": null,
      "outputs": []
    },
    {
      "cell_type": "code",
      "source": [
        "p"
      ],
      "metadata": {
        "colab": {
          "base_uri": "https://localhost:8080/"
        },
        "id": "SVoV_xxgV9gK",
        "outputId": "323294a4-596c-42c7-e20c-0b2d8e7cae6d"
      },
      "execution_count": null,
      "outputs": [
        {
          "output_type": "execute_result",
          "data": {
            "text/plain": [
              "6.4486365"
            ]
          },
          "metadata": {},
          "execution_count": 32
        }
      ]
    },
    {
      "cell_type": "code",
      "source": [
        "if(pred<0):\n",
        "  pred=0"
      ],
      "metadata": {
        "id": "pNYSOQGJV-GD"
      },
      "execution_count": null,
      "outputs": []
    },
    {
      "cell_type": "code",
      "source": [
        "np.size(p)==1"
      ],
      "metadata": {
        "colab": {
          "base_uri": "https://localhost:8080/"
        },
        "id": "1vpQkQiOWCqR",
        "outputId": "d18a6620-0bb7-4171-ca89-f9f2849050f1"
      },
      "execution_count": null,
      "outputs": [
        {
          "output_type": "execute_result",
          "data": {
            "text/plain": [
              "True"
            ]
          },
          "metadata": {},
          "execution_count": 51
        }
      ]
    },
    {
      "cell_type": "code",
      "source": [
        "if(np.szie(pred)==1):\n",
        "  if(pred<0):\n",
        "    pred=0\n",
        "else:\n",
        "  pred[pred<0]=0"
      ],
      "metadata": {
        "id": "4zQHu2_fWIDL"
      },
      "execution_count": null,
      "outputs": []
    }
  ]
}